{
 "cells": [
  {
   "cell_type": "code",
   "execution_count": 3,
   "id": "f1d38c93-9ac1-4710-80cb-49fdd22cd4c6",
   "metadata": {},
   "outputs": [],
   "source": [
    "import csv\n",
    "from pathlib import Path"
   ]
  },
  {
   "cell_type": "code",
   "execution_count": 4,
   "id": "57970de2-fe5c-4123-ad56-f1801b6a159f",
   "metadata": {},
   "outputs": [],
   "source": [
    "tranco_path = Path(Path.cwd(), 'crx_vs_tranco/tranco_100k.csv')"
   ]
  },
  {
   "cell_type": "code",
   "execution_count": 5,
   "id": "d166b634-2133-4dc6-81fb-1abf3eebcf41",
   "metadata": {},
   "outputs": [],
   "source": [
    "# process tranco\n",
    "tranco_sites = []\n",
    "with open(tranco_path, 'r') as tranco:\n",
    "    csv_reader = csv.reader(tranco, delimiter=',')\n",
    "    for idx, site in csv_reader:\n",
    "        tranco_sites.append(site)"
   ]
  },
  {
   "cell_type": "code",
   "execution_count": 6,
   "id": "a6d48343-a952-44c2-8011-e75bba070c99",
   "metadata": {},
   "outputs": [
    {
     "data": {
      "text/plain": [
       "92131"
      ]
     },
     "execution_count": 6,
     "metadata": {},
     "output_type": "execute_result"
    }
   ],
   "source": [
    "len(tranco_sites)"
   ]
  },
  {
   "cell_type": "code",
   "execution_count": 74,
   "id": "04f46aa9-4b1c-40cc-a2c6-636be8f36fc8",
   "metadata": {},
   "outputs": [],
   "source": [
    "# write the list into a csv file\n",
    "filename = Path(Path.cwd(), 'tranco_100k_list.csv')    \n",
    "with open(filename, 'w', newline='') as file:\n",
    "    writer = csv.writer(file)\n",
    "    \n",
    "    # Write data\n",
    "    for row in tranco_sites:\n",
    "        writer.writerow(row)"
   ]
  },
  {
   "cell_type": "code",
   "execution_count": 8,
   "id": "9a59d311-6c32-4699-ad21-85b5ed200a07",
   "metadata": {},
   "outputs": [
    {
     "name": "stdout",
     "output_type": "stream",
     "text": [
      "Chunk 1 has been written to /home/pooneh/API_call_traces/sites/tranco/chunk_1.csv\n",
      "Chunk 2 has been written to /home/pooneh/API_call_traces/sites/tranco/chunk_2.csv\n",
      "Chunk 3 has been written to /home/pooneh/API_call_traces/sites/tranco/chunk_3.csv\n",
      "Chunk 4 has been written to /home/pooneh/API_call_traces/sites/tranco/chunk_4.csv\n",
      "Chunk 5 has been written to /home/pooneh/API_call_traces/sites/tranco/chunk_5.csv\n",
      "Chunk 6 has been written to /home/pooneh/API_call_traces/sites/tranco/chunk_6.csv\n",
      "Chunk 7 has been written to /home/pooneh/API_call_traces/sites/tranco/chunk_7.csv\n",
      "Chunk 8 has been written to /home/pooneh/API_call_traces/sites/tranco/chunk_8.csv\n",
      "Chunk 9 has been written to /home/pooneh/API_call_traces/sites/tranco/chunk_9.csv\n",
      "Chunk 10 has been written to /home/pooneh/API_call_traces/sites/tranco/chunk_10.csv\n",
      "Chunk 11 has been written to /home/pooneh/API_call_traces/sites/tranco/chunk_11.csv\n",
      "Chunk 12 has been written to /home/pooneh/API_call_traces/sites/tranco/chunk_12.csv\n",
      "Chunk 13 has been written to /home/pooneh/API_call_traces/sites/tranco/chunk_13.csv\n",
      "Chunk 14 has been written to /home/pooneh/API_call_traces/sites/tranco/chunk_14.csv\n",
      "Chunk 15 has been written to /home/pooneh/API_call_traces/sites/tranco/chunk_15.csv\n",
      "Chunk 16 has been written to /home/pooneh/API_call_traces/sites/tranco/chunk_16.csv\n",
      "Chunk 17 has been written to /home/pooneh/API_call_traces/sites/tranco/chunk_17.csv\n",
      "Chunk 18 has been written to /home/pooneh/API_call_traces/sites/tranco/chunk_18.csv\n",
      "Chunk 19 has been written to /home/pooneh/API_call_traces/sites/tranco/chunk_19.csv\n"
     ]
    }
   ],
   "source": [
    "# chunk tranco into \n",
    "def chunk_list(input_list, chunk_size):\n",
    "    \"\"\"Yield successive chunk_size chunks from input_list.\"\"\"\n",
    "    for i in range(0, len(input_list), chunk_size):\n",
    "        yield input_list[i:i + chunk_size]\n",
    "\n",
    "# Number of items per sublist\n",
    "n = 5000\n",
    "\n",
    "# Get the chunks\n",
    "chunks = list(chunk_list(tranco_sites, n))\n",
    "\n",
    "# Write each chunk to a separate CSV file\n",
    "for i, chunk in enumerate(chunks):\n",
    "    filename = Path(Path.cwd(), 'tranco', f'chunk_{i+1}.csv')   \n",
    "    with open(filename, 'w', newline='') as file:\n",
    "        writer = csv.writer(file)\n",
    "        writer.writerow(['website'])  # Writing header\n",
    "        for name in chunk:\n",
    "            writer.writerow([name])  # Writing each name in a new row\n",
    "\n",
    "    print(f'Chunk {i+1} has been written to {filename}')"
   ]
  }
 ],
 "metadata": {
  "kernelspec": {
   "display_name": "Python 3 (ipykernel)",
   "language": "python",
   "name": "python3"
  },
  "language_info": {
   "codemirror_mode": {
    "name": "ipython",
    "version": 3
   },
   "file_extension": ".py",
   "mimetype": "text/x-python",
   "name": "python",
   "nbconvert_exporter": "python",
   "pygments_lexer": "ipython3",
   "version": "3.10.13"
  }
 },
 "nbformat": 4,
 "nbformat_minor": 5
}
