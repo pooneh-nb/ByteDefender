{
 "cells": [
  {
   "cell_type": "code",
   "execution_count": 5,
   "metadata": {},
   "outputs": [],
   "source": [
    "import utilities\n",
    "from pathlib import Path\n",
    "proj_dir = Path.home().cwd()"
   ]
  },
  {
   "cell_type": "code",
   "execution_count": 25,
   "metadata": {},
   "outputs": [],
   "source": [
    "db_path = Path.joinpath(proj_dir, 'create_DataBase/DB/DB.json')\n",
    "db = utilities.read_json(db_path)"
   ]
  },
  {
   "cell_type": "code",
   "execution_count": 42,
   "metadata": {
    "scrolled": false
   },
   "outputs": [
    {
     "name": "stdout",
     "output_type": "stream",
     "text": [
      "284\n",
      "3570\n"
     ]
    }
   ],
   "source": [
    "APIs = [\"CanvasRenderingContext2D.fillText\", \"OffscreenCanvasRenderingContext2D.fillText\",\n",
    "        \"CanvasRenderingContext2D.measureText\", \"OffscreenCanvasRenderingContext2D.measureText\",\n",
    "        \"CanvasRenderingContext2D.font.set\", \"BaseAudioContext.createOscillator\", \n",
    "        \"BaseAudioContext.createDynamicsCompressor\", \"OfflineAudioContext.startRendering\",\n",
    "        \"AudioNode.connect\", \"AudioBuffer.getChannelData\"]\n",
    "\n",
    "dic = {}\n",
    "counter = 0\n",
    "for site, meta in db.items():\n",
    "    counter += 1\n",
    "    dic[site] = {}\n",
    "    for script_id, script_info in meta.items():\n",
    "        if script_info['functions']:\n",
    "            for f_name , info in script_info['functions'].items():\n",
    "                if info['Bytecode'] != [\"\"]:\n",
    "                    for api_tuple in info['API_args']:\n",
    "                        if any(api_tuple[0] == api for api in APIs):\n",
    "                            if script_id not in dic[site]:\n",
    "                                dic[site] = {script_id: {}}\n",
    "                            if f_name not in dic[site][script_id]:\n",
    "                                dic[site][script_id][f_name] = {}\n",
    "                            if api_tuple[0] not in dic[site][script_id][f_name]:\n",
    "                                dic[site][script_id][f_name][api_tuple[0]] = 0\n",
    "                            dic[site][script_id][f_name][api_tuple[0]] += 1\n",
    "    if dic[site] == {}:\n",
    "        del dic[site]\n",
    "#                             print(site, script_id, f_name)\n",
    "#                             print(api_tuple)\n",
    "#     #                         print(info['Bytecode'])\n",
    "#                             print(\"-------\")\n",
    "print(len(dic))\n",
    "print(counter)"
   ]
  }
 ],
 "metadata": {
  "kernelspec": {
   "display_name": "Python 3",
   "language": "python",
   "name": "python3"
  },
  "language_info": {
   "codemirror_mode": {
    "name": "ipython",
    "version": 3
   },
   "file_extension": ".py",
   "mimetype": "text/x-python",
   "name": "python",
   "nbconvert_exporter": "python",
   "pygments_lexer": "ipython3",
   "version": "3.7.3"
  }
 },
 "nbformat": 4,
 "nbformat_minor": 2
}
