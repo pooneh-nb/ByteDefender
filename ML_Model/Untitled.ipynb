{
 "cells": [
  {
   "cell_type": "code",
   "execution_count": 1,
   "metadata": {},
   "outputs": [],
   "source": [
    "import pandas as pd\n",
    "from gensim.models import FastText\n",
    "from pathlib import Path\n",
    "import time"
   ]
  },
  {
   "cell_type": "code",
   "execution_count": 3,
   "metadata": {},
   "outputs": [],
   "source": [
    "meta_hyper = {\n",
    "    \"vector_size\": 100, # size of embedding \n",
    "    \"alpha\": 0.025, # learning rate\n",
    "    \"window\": 5,\n",
    "    \"min_count\" : 1,\n",
    "    \"epochs\": 300, # number of training epochs\n",
    "    \"data_description\": \"Add your description here\",\n",
    "    \"CPU\": 8\n",
    "}\n",
    "\n",
    "def FastText_embeddings(bytecode_sequences):\n",
    "    print('FastText_embeddings')\n",
    "    # model_ft = FastText(bytecode_sequences, vector_size=100, window=3, min_count=1, sg=1)\n",
    "    # return model_ft\n",
    "    print(\"parameters\")\n",
    "    embed_model = FastText(vector_size=meta_hyper['vector_size'], \n",
    "                       window=meta_hyper['window'], \n",
    "                       min_count = meta_hyper['min_count'], \n",
    "                       alpha= meta_hyper['alpha'], \n",
    "                       workers=meta_hyper['CPU'])\n",
    "    \n",
    "    print(\"build vocal\")\n",
    "    embed_model.build_vocab(bytecode_sequences)\n",
    "\n",
    "    start = time.time()\n",
    "    print(start)\n",
    "    embed_model.train(bytecode_sequences, total_examples=len(bytecode_sequences), epochs=meta_hyper['epochs'])  \n",
    "\n",
    "    end = time.time()\n",
    "\n",
    "    print(end-start)\n",
    "\n",
    "    embed_model.save('fasttext_{}.mdl'.format(meta_hyper['vector_size']))"
   ]
  },
  {
   "cell_type": "code",
   "execution_count": 2,
   "metadata": {},
   "outputs": [
    {
     "data": {
      "text/plain": [
       "list"
      ]
     },
     "execution_count": 2,
     "metadata": {},
     "output_type": "execute_result"
    }
   ],
   "source": [
    "db_path = Path.home().joinpath(Path.home().cwd().parent, 'create_DataBase/DB/dataset/bytecode_data.csv')\n",
    "db = pd.read_csv(db_path)\n",
    "bytecode_sequences = ','.join(db[\"Bytecode\"][1:]).split(',')\n",
    "type(bytecode_sequences)\n",
    "# FastText_embeddings(bytecode_sequences)"
   ]
  },
  {
   "cell_type": "code",
   "execution_count": 17,
   "metadata": {},
   "outputs": [
    {
     "data": {
      "text/plain": [
       "list"
      ]
     },
     "execution_count": 17,
     "metadata": {},
     "output_type": "execute_result"
    }
   ],
   "source": [
    "type(bytecode_sequences)"
   ]
  },
  {
   "cell_type": "code",
   "execution_count": 3,
   "metadata": {},
   "outputs": [
    {
     "data": {
      "text/plain": [
       "str"
      ]
     },
     "execution_count": 3,
     "metadata": {},
     "output_type": "execute_result"
    }
   ],
   "source": [
    "type(db['Bytecode'][0])"
   ]
  },
  {
   "cell_type": "code",
   "execution_count": 4,
   "metadata": {},
   "outputs": [
    {
     "data": {
      "text/plain": [
       "\"['Parameter count 1 Register count 6 Frame size 48 LdaCurrentContextSlot', 'JumpIfToBooleanFalse', 'LdaCurrentContextSlot', 'Return', 'LdaTrue', 'StaCurrentContextSlot', 'Mov', 'LdaImmutableCurrentContextSlot', 'Star2', 'GetNamedProperty', 'Star2', 'GetNamedProperty', 'Star0', 'LdaSmi', 'Star2', 'GetNamedProperty', 'Star3', 'LdaConstant', 'Star5', 'CallProperty1', 'TestEqualStrict', 'JumpIfFalse', 'LdaSmi', 'Star2', 'GetNamedProperty', 'Star3', 'LdaConstant', 'Star5', 'CallProperty1', 'TestEqualStrict', 'JumpIfFalse', 'LdaSmi', 'Star2', 'GetNamedProperty', 'Star3', 'LdaConstant', 'Star5', 'CallProperty1', 'TestEqualStrict', 'JumpIfToBooleanTrue', 'LdaTrue', 'StaCurrentContextSlot', 'Jump', 'Star2', 'CreateCatchContext', 'Star1', 'LdaTheHole', 'SetPendingMessage', 'Ldar', 'PushContext', 'PopContext', 'LdaCurrentContextSlot']\""
      ]
     },
     "execution_count": 4,
     "metadata": {},
     "output_type": "execute_result"
    }
   ],
   "source": [
    "db['Bytecode'][0]"
   ]
  },
  {
   "cell_type": "code",
   "execution_count": null,
   "metadata": {},
   "outputs": [],
   "source": [
    "tokens = set()\n",
    "for bytecode in bytecode_sequences:\n",
    "    for token "
   ]
  }
 ],
 "metadata": {
  "kernelspec": {
   "display_name": "Python 3",
   "language": "python",
   "name": "python3"
  },
  "language_info": {
   "codemirror_mode": {
    "name": "ipython",
    "version": 3
   },
   "file_extension": ".py",
   "mimetype": "text/x-python",
   "name": "python",
   "nbconvert_exporter": "python",
   "pygments_lexer": "ipython3",
   "version": "3.7.3"
  }
 },
 "nbformat": 4,
 "nbformat_minor": 2
}
